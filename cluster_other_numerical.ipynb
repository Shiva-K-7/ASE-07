{
 "cells": [
  {
   "cell_type": "code",
   "execution_count": 26,
   "metadata": {},
   "outputs": [],
   "source": [
    "import pandas as pd\n",
    "import matplotlib.pyplot as plt\n",
    "df_GitHub_Metric = pd.read_csv(\"GitHub_Metric.csv\")"
   ]
  },
  {
   "cell_type": "code",
   "execution_count": 66,
   "metadata": {},
   "outputs": [
    {
     "data": {
      "text/html": [
       "<div>\n",
       "<style scoped>\n",
       "    .dataframe tbody tr th:only-of-type {\n",
       "        vertical-align: middle;\n",
       "    }\n",
       "\n",
       "    .dataframe tbody tr th {\n",
       "        vertical-align: top;\n",
       "    }\n",
       "\n",
       "    .dataframe thead th {\n",
       "        text-align: right;\n",
       "    }\n",
       "</style>\n",
       "<table border=\"1\" class=\"dataframe\">\n",
       "  <thead>\n",
       "    <tr style=\"text-align: right;\">\n",
       "      <th></th>\n",
       "      <th>FILE_ID</th>\n",
       "      <th>SCHK_Block_count</th>\n",
       "      <th>Agg_SubSystem_count</th>\n",
       "      <th>Hierarchy_depth</th>\n",
       "      <th>LibraryLinked_Count</th>\n",
       "      <th>CComplexity</th>\n",
       "      <th>total_ConnH_cnt</th>\n",
       "    </tr>\n",
       "  </thead>\n",
       "  <tbody>\n",
       "    <tr>\n",
       "      <th>count</th>\n",
       "      <td>2.150000e+02</td>\n",
       "      <td>215.000000</td>\n",
       "      <td>215.000000</td>\n",
       "      <td>215.000000</td>\n",
       "      <td>215.000000</td>\n",
       "      <td>215.000000</td>\n",
       "      <td>215.000000</td>\n",
       "    </tr>\n",
       "    <tr>\n",
       "      <th>mean</th>\n",
       "      <td>1.087170e+08</td>\n",
       "      <td>636.283721</td>\n",
       "      <td>49.404651</td>\n",
       "      <td>2.641860</td>\n",
       "      <td>14.316279</td>\n",
       "      <td>42.204651</td>\n",
       "      <td>616.767442</td>\n",
       "    </tr>\n",
       "    <tr>\n",
       "      <th>std</th>\n",
       "      <td>6.220192e+07</td>\n",
       "      <td>1898.284272</td>\n",
       "      <td>163.893398</td>\n",
       "      <td>1.836066</td>\n",
       "      <td>90.745472</td>\n",
       "      <td>224.709355</td>\n",
       "      <td>1786.957899</td>\n",
       "    </tr>\n",
       "    <tr>\n",
       "      <th>min</th>\n",
       "      <td>7.896830e+05</td>\n",
       "      <td>0.000000</td>\n",
       "      <td>0.000000</td>\n",
       "      <td>1.000000</td>\n",
       "      <td>0.000000</td>\n",
       "      <td>-85.000000</td>\n",
       "      <td>0.000000</td>\n",
       "    </tr>\n",
       "    <tr>\n",
       "      <th>25%</th>\n",
       "      <td>5.421030e+07</td>\n",
       "      <td>32.500000</td>\n",
       "      <td>0.000000</td>\n",
       "      <td>1.000000</td>\n",
       "      <td>0.000000</td>\n",
       "      <td>-2.000000</td>\n",
       "      <td>30.500000</td>\n",
       "    </tr>\n",
       "    <tr>\n",
       "      <th>50%</th>\n",
       "      <td>1.031503e+08</td>\n",
       "      <td>102.000000</td>\n",
       "      <td>5.000000</td>\n",
       "      <td>2.000000</td>\n",
       "      <td>0.000000</td>\n",
       "      <td>-1.000000</td>\n",
       "      <td>109.000000</td>\n",
       "    </tr>\n",
       "    <tr>\n",
       "      <th>75%</th>\n",
       "      <td>1.572655e+08</td>\n",
       "      <td>320.500000</td>\n",
       "      <td>24.000000</td>\n",
       "      <td>3.000000</td>\n",
       "      <td>2.000000</td>\n",
       "      <td>4.500000</td>\n",
       "      <td>368.500000</td>\n",
       "    </tr>\n",
       "    <tr>\n",
       "      <th>max</th>\n",
       "      <td>2.284319e+08</td>\n",
       "      <td>15418.000000</td>\n",
       "      <td>1920.000000</td>\n",
       "      <td>11.000000</td>\n",
       "      <td>1257.000000</td>\n",
       "      <td>2184.000000</td>\n",
       "      <td>14403.000000</td>\n",
       "    </tr>\n",
       "  </tbody>\n",
       "</table>\n",
       "</div>"
      ],
      "text/plain": [
       "            FILE_ID  SCHK_Block_count  Agg_SubSystem_count  Hierarchy_depth  \\\n",
       "count  2.150000e+02        215.000000           215.000000       215.000000   \n",
       "mean   1.087170e+08        636.283721            49.404651         2.641860   \n",
       "std    6.220192e+07       1898.284272           163.893398         1.836066   \n",
       "min    7.896830e+05          0.000000             0.000000         1.000000   \n",
       "25%    5.421030e+07         32.500000             0.000000         1.000000   \n",
       "50%    1.031503e+08        102.000000             5.000000         2.000000   \n",
       "75%    1.572655e+08        320.500000            24.000000         3.000000   \n",
       "max    2.284319e+08      15418.000000          1920.000000        11.000000   \n",
       "\n",
       "       LibraryLinked_Count  CComplexity  total_ConnH_cnt  \n",
       "count           215.000000   215.000000       215.000000  \n",
       "mean             14.316279    42.204651       616.767442  \n",
       "std              90.745472   224.709355      1786.957899  \n",
       "min               0.000000   -85.000000         0.000000  \n",
       "25%               0.000000    -2.000000        30.500000  \n",
       "50%               0.000000    -1.000000       109.000000  \n",
       "75%               2.000000     4.500000       368.500000  \n",
       "max            1257.000000  2184.000000     14403.000000  "
      ]
     },
     "execution_count": 66,
     "metadata": {},
     "output_type": "execute_result"
    }
   ],
   "source": [
    "df_GitHub_Metric = df_GitHub_Metric[['FILE_ID', 'is_Lib', 'SCHK_Block_count', 'Agg_SubSystem_count', 'Hierarchy_depth', 'LibraryLinked_Count', 'CComplexity', 'total_ConnH_cnt']]\n",
    "#all values are -1 when is_lib=1, so select only is_lib==0\n",
    "df_GitHub_Metric = df_GitHub_Metric[df_GitHub_Metric.is_Lib == 0]\n",
    "df_GitHub_Metric1 = df_GitHub_Metric.groupby('FILE_ID').agg({'SCHK_Block_count':'sum', \n",
    "                                                            'Agg_SubSystem_count':'sum', \n",
    "                                                            'Hierarchy_depth':'max', \n",
    "                                                            'LibraryLinked_Count': 'sum',\n",
    "                                                            'CComplexity' :'sum',\n",
    "                                                            'total_ConnH_cnt': 'sum'\n",
    "                                                           }).reset_index()\n",
    "\n",
    "# #48991644 this has high block count value so replacing its values with means of each column the whole row\n",
    "df_GitHub_Metric1= df_GitHub_Metric1.drop(df_GitHub_Metric1[df_GitHub_Metric1.SCHK_Block_count > 20000].index)\n",
    "df_GitHub_Metric1.describe()\n",
    "# # df_GitHub_Metric1.to_csv('df_GitHub_Metric_kmeans_cols.csv')"
   ]
  },
  {
   "cell_type": "code",
   "execution_count": null,
   "metadata": {},
   "outputs": [],
   "source": []
  },
  {
   "cell_type": "code",
   "execution_count": 67,
   "metadata": {},
   "outputs": [
    {
     "data": {
      "image/png": "[encoded data removed]",
      "text/plain": [
       "<Figure size 432x288 with 1 Axes>"
      ]
     },
     "metadata": {
      "needs_background": "light"
     },
     "output_type": "display_data"
    }
   ],
   "source": [
    "from sklearn.cluster import KMeans\n",
    "import numpy as np\n",
    "inertia = []\n",
    "K = range(1,10)\n",
    "for k in K:\n",
    "    kmeanModel = KMeans(n_clusters=k, init='k-means++', n_init=20, max_iter=200, algorithm='full')\n",
    "    kmeanModel.fit(df_GitHub_Metric1)\n",
    "    inertia.append(kmeanModel.inertia_)\n",
    "plt.plot(K, inertia, 'bx-')\n",
    "plt.xlabel('k')\n",
    "plt.ylabel('Inertia')\n",
    "plt.show()"
   ]
  },
  {
   "cell_type": "code",
   "execution_count": 71,
   "metadata": {},
   "outputs": [
    {
     "data": {
      "text/plain": [
       "array([7, 7, 7, 7, 7, 7, 7, 7, 7, 7, 7, 7, 7, 7, 7, 5, 5, 5, 5, 5, 5, 5,\n",
       "       5, 5, 5, 5, 5, 5, 5, 5, 5, 5, 5, 5, 5, 5, 5, 5, 5, 5, 5, 5, 5, 5,\n",
       "       5, 5, 1, 1, 1, 1, 1, 1, 1, 1, 1, 1, 1, 1, 1, 1, 1, 1, 1, 1, 1, 1,\n",
       "       1, 1, 1, 3, 3, 3, 3, 3, 3, 3, 3, 3, 3, 3, 3, 3, 3, 3, 3, 3, 3, 3,\n",
       "       3, 3, 3, 3, 3, 3, 3, 3, 3, 3, 3, 3, 3, 3, 3, 3, 3, 3, 3, 3, 3, 3,\n",
       "       3, 3, 3, 3, 3, 3, 3, 3, 3, 0, 0, 0, 0, 0, 0, 0, 0, 0, 0, 0, 0, 0,\n",
       "       0, 0, 0, 0, 0, 0, 0, 0, 0, 0, 0, 0, 0, 0, 0, 0, 0, 0, 0, 0, 4, 4,\n",
       "       4, 4, 4, 4, 4, 4, 4, 4, 4, 4, 4, 4, 4, 4, 4, 4, 4, 4, 4, 4, 4, 4,\n",
       "       4, 4, 2, 2, 2, 2, 2, 2, 2, 2, 2, 2, 2, 2, 2, 2, 2, 2, 2, 2, 2, 2,\n",
       "       2, 6, 6, 6, 6, 6, 6, 6, 6, 6, 6, 6, 6, 6, 6, 6, 6])"
      ]
     },
     "execution_count": 71,
     "metadata": {},
     "output_type": "execute_result"
    }
   ],
   "source": [
    "k=8\n",
    "model = KMeans(n_clusters=k, init='k-means++', n_init=20, max_iter=200, algorithm='full')\n",
    "model.fit(df_GitHub_Metric1)\n",
    "df_GitHub_Metric1['labels'] = model.labels_\n",
    "df_GitHub_Metric1.to_csv('df_GitHub_Metric_kmeans_cols.csv')\n",
    "model.labels_"
   ]
  },
  {
   "cell_type": "code",
   "execution_count": 69,
   "metadata": {},
   "outputs": [],
   "source": []
  },
  {
   "cell_type": "code",
   "execution_count": 72,
   "metadata": {},
   "outputs": [
    {
     "data": {
      "image/png": "[encoded data removed]",
      "text/plain": [
       "<Figure size 432x288 with 1 Axes>"
      ]
     },
     "metadata": {
      "needs_background": "light"
     },
     "output_type": "display_data"
    }
   ],
   "source": [
    "plt.scatter(df_GitHub_Metric1['SCHK_Block_count'] , df_GitHub_Metric1['labels'])\n",
    "# 'SCHK_Block_count', 'Agg_SubSystem_count', 'Hierarchy_depth', 'LibraryLinked_Count', 'CComplexity', 'total_ConnH_cnt'\n",
    "plt.show()\n",
    "plt.xlabel(\"SCHK_Block_count\")\n",
    "plt.ylabel(\"labels\")"
   ]
  },
  {
   "cell_type": "code",
   "execution_count": 73,
   "metadata": {},
   "outputs": [
    {
     "data": {
      "image/png": "[encoded data removed]",
      "text/plain": [
       "<Figure size 432x288 with 1 Axes>"
      ]
     },
     "metadata": {
      "needs_background": "light"
     },
     "output_type": "display_data"
    }
   ],
   "source": [
    "plt.scatter(df_GitHub_Metric1['Agg_SubSystem_count'] , df_GitHub_Metric1['labels'])\n",
    "# 'SCHK_Block_count', 'Agg_SubSystem_count', 'Hierarchy_depth', 'LibraryLinked_Count', 'CComplexity', 'total_ConnH_cnt'\n",
    "\n",
    "plt.xlabel(\"Agg_SubSystem_count\")\n",
    "plt.ylabel(\"labels\")\n",
    "plt.show()"
   ]
  },
  {
   "cell_type": "code",
   "execution_count": 74,
   "metadata": {},
   "outputs": [
    {
     "data": {
      "image/png": "[encoded data removed]",
      "text/plain": [
       "<Figure size 432x288 with 1 Axes>"
      ]
     },
     "metadata": {
      "needs_background": "light"
     },
     "output_type": "display_data"
    }
   ],
   "source": [
    "plt.scatter(df_GitHub_Metric1['Hierarchy_depth'] , df_GitHub_Metric1['labels'])\n",
    "Agg_SubSystem_count\n",
    "plt.show()"
   ]
  },
  {
   "cell_type": "code",
   "execution_count": null,
   "metadata": {},
   "outputs": [],
   "source": [
    "plt.scatter(df_GitHub_Metric1['LibraryLinked_Count'] , df_GitHub_Metric1['labels'])\n",
    "# 'SCHK_Block_count', 'Agg_SubSystem_count', 'Hierarchy_depth', 'LibraryLinked_Count', 'CComplexity', 'total_ConnH_cnt'\n",
    "plt.show()"
   ]
  },
  {
   "cell_type": "code",
   "execution_count": null,
   "metadata": {},
   "outputs": [],
   "source": [
    "plt.scatter(df_GitHub_Metric1['CComplexity'] , df_GitHub_Metric1['labels'])\n",
    "# 'SCHK_Block_count', 'Agg_SubSystem_count', 'Hierarchy_depth', 'LibraryLinked_Count', 'CComplexity', 'total_ConnH_cnt'\n",
    "plt.show()"
   ]
  },
  {
   "cell_type": "code",
   "execution_count": null,
   "metadata": {},
   "outputs": [],
   "source": [
    "plt.scatter(df_GitHub_Metric1['total_ConnH_cnt'] , df_GitHub_Metric1['labels'])\n",
    "# 'SCHK_Block_count', 'Agg_SubSystem_count', 'Hierarchy_depth', 'LibraryLinked_Count', 'CComplexity', 'total_ConnH_cnt'\n",
    "plt.show()"
   ]
  }
 ],
 "metadata": {
  "kernelspec": {
   "display_name": "Python 3",
   "language": "python",
   "name": "python3"
  },
  "language_info": {
   "codemirror_mode": {
    "name": "ipython",
    "version": 3
   },
   "file_extension": ".py",
   "mimetype": "text/x-python",
   "name": "python",
   "nbconvert_exporter": "python",
   "pygments_lexer": "ipython3",
   "version": "3.8.3"
  }
 },
 "nbformat": 4,
 "nbformat_minor": 4
}
