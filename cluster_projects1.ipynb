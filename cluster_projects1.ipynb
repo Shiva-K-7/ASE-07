{
 "cells": [
  {
   "cell_type": "code",
   "execution_count": 5,
   "source": [
    "import numpy as np\r\n",
    "import pandas as pd\r\n",
    "from sklearn.cluster import KMeans\r\n",
    "from datetime import datetime\r\n",
    "from datetime import date\r\n",
    "import matplotlib.pyplot as plt"
   ],
   "outputs": [],
   "metadata": {}
  },
  {
   "cell_type": "code",
   "execution_count": 6,
   "source": [
    "df = pd.read_csv(\"GitHub_Projects.csv\")"
   ],
   "outputs": [],
   "metadata": {}
  },
  {
   "cell_type": "code",
   "execution_count": 7,
   "source": [
    "updated = pd.to_datetime(df[\"updated_at\"]).dt.date\r\n",
    "created = pd.to_datetime(df[\"created_at\"]).dt.date\r\n",
    "days = updated-created\r\n",
    "days = pd.to_numeric(days.dt.days, downcast='integer')"
   ],
   "outputs": [],
   "metadata": {}
  },
  {
   "cell_type": "code",
   "execution_count": 8,
   "source": [
    "df[\"updated-created\"] = days \r\n",
    "#df.head()"
   ],
   "outputs": [],
   "metadata": {}
  },
  {
   "cell_type": "code",
   "execution_count": 9,
   "source": [
    "data = df[[\"repo_name\", \"Description\", \"stargazers_count\", \"forks_count\", \"num_model_file\", \"updated-created\"]]\r\n",
    "#data.head()"
   ],
   "outputs": [],
   "metadata": {}
  },
  {
   "cell_type": "code",
   "execution_count": 10,
   "source": [
    "data1 = data[[\"stargazers_count\", \"forks_count\", \"num_model_file\", \"updated-created\"]]"
   ],
   "outputs": [],
   "metadata": {}
  },
  {
   "cell_type": "code",
   "execution_count": 11,
   "source": [
    "clusters = KMeans(n_clusters=2)\r\n",
    "df[\"cluster1\"] = clusters.fit_predict(data1)\r\n",
    "cluster1_data = df[[\"repo_name\", \"Description\", \"stargazers_count\", \"forks_count\", \"num_model_file\", \"updated-created\", \"cluster1\"]]\r\n",
    "cluster1_data\r\n",
    "cluster1_data.to_csv(\"numerical_cluster.csv\")"
   ],
   "outputs": [],
   "metadata": {}
  },
  {
   "cell_type": "code",
   "execution_count": null,
   "source": [],
   "outputs": [],
   "metadata": {}
  },
  {
   "cell_type": "code",
   "execution_count": null,
   "source": [],
   "outputs": [],
   "metadata": {}
  },
  {
   "cell_type": "code",
   "execution_count": null,
   "source": [],
   "outputs": [],
   "metadata": {}
  },
  {
   "cell_type": "code",
   "execution_count": null,
   "source": [],
   "outputs": [],
   "metadata": {}
  },
  {
   "cell_type": "code",
   "execution_count": null,
   "source": [],
   "outputs": [],
   "metadata": {}
  },
  {
   "cell_type": "code",
   "execution_count": null,
   "source": [],
   "outputs": [],
   "metadata": {}
  },
  {
   "cell_type": "code",
   "execution_count": null,
   "source": [],
   "outputs": [],
   "metadata": {}
  },
  {
   "cell_type": "code",
   "execution_count": null,
   "source": [],
   "outputs": [],
   "metadata": {}
  }
 ],
 "metadata": {
  "kernelspec": {
   "name": "python3",
   "display_name": "Python 3.8.3 64-bit ('base': conda)"
  },
  "language_info": {
   "codemirror_mode": {
    "name": "ipython",
    "version": 3
   },
   "file_extension": ".py",
   "mimetype": "text/x-python",
   "name": "python",
   "nbconvert_exporter": "python",
   "pygments_lexer": "ipython3",
   "version": "3.8.3"
  },
  "interpreter": {
   "hash": "0581807dbc117eb11e70699d6bf3dda34e77f01f4dc69961ecd9f8340205ca92"
  }
 },
 "nbformat": 4,
 "nbformat_minor": 4
}