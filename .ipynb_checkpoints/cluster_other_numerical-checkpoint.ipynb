{
 "cells": [
  {
   "cell_type": "code",
   "execution_count": 26,
   "metadata": {},
   "outputs": [],
   "source": [
    "import pandas as pd\n",
    "import matplotlib.pyplot as plt\n",
    "df_GitHub_Metric = pd.read_csv(\"GitHub_Metric.csv\")"
   ]
  },
  {
   "cell_type": "code",
   "execution_count": 49,
   "metadata": {},
   "outputs": [
    {
     "name": "stdout",
     "output_type": "stream",
     "text": [
      "RangeIndex(start=0, stop=216, step=1)\n"
     ]
    }
   ],
   "source": [
    "df_GitHub_Metric = df_GitHub_Metric[['FILE_ID', 'is_Lib', 'SCHK_Block_count', 'Agg_SubSystem_count', 'Hierarchy_depth', 'LibraryLinked_Count', 'CComplexity', 'total_ConnH_cnt']]\n",
    "#all values are -1 when is_lib=1, so select only is_lib==0\n",
    "df_GitHub_Metric = df_GitHub_Metric[df_GitHub_Metric.is_Lib == 0]\n",
    "df_GitHub_Metric1 = df_GitHub_Metric.groupby('FILE_ID').agg({'SCHK_Block_count':'sum', \n",
    "                                                            'Agg_SubSystem_count':'sum', \n",
    "                                                            'Hierarchy_depth':'max', \n",
    "                                                            'LibraryLinked_Count': 'sum',\n",
    "                                                            'CComplexity' :'sum',\n",
    "                                                            'total_ConnH_cnt': 'sum'\n",
    "                                                           }).reset_index()\n",
    "df_GitHub_Metric1.head()\n",
    "# #48991644 this has high block count value so replacing its values with means of each column the whole row\n",
    "for index, row in df_GitHub_Metric1.iterrows():\n",
    "    if df_GitHub_Metric1.FILE_ID == 48991644:\n",
    "        print(df_GitHub_Metric1[48991644])\n",
    "# # df_GitHub_Metric1.to_csv('df_GitHub_Metric_kmeans_cols.csv')"
   ]
  },
  {
   "cell_type": "code",
   "execution_count": null,
   "metadata": {},
   "outputs": [],
   "source": []
  },
  {
   "cell_type": "code",
   "execution_count": 33,
   "metadata": {},
   "outputs": [
    {
     "data": {
      "image/png": "[encoded data removed]",
      "text/plain": [
       "<Figure size 432x288 with 1 Axes>"
      ]
     },
     "metadata": {
      "needs_background": "light"
     },
     "output_type": "display_data"
    }
   ],
   "source": [
    "from sklearn.cluster import KMeans\n",
    "import numpy as np\n",
    "inertia = []\n",
    "K = range(1,10)\n",
    "for k in K:\n",
    "    kmeanModel = KMeans(n_clusters=k, init='k-means++', n_init=20, max_iter=200, algorithm='full')\n",
    "    kmeanModel.fit(df_GitHub_Metric1)\n",
    "    inertia.append(kmeanModel.inertia_)\n",
    "plt.plot(K, inertia, 'bx-')\n",
    "plt.xlabel('k')\n",
    "plt.ylabel('Inertia')\n",
    "plt.show()"
   ]
  },
  {
   "cell_type": "code",
   "execution_count": 37,
   "metadata": {},
   "outputs": [],
   "source": [
    "k=2\n",
    "model = KMeans(n_clusters=k, init='k-means++', n_init=20, max_iter=200, algorithm='full')\n",
    "model.fit(df_GitHub_Metric1)\n",
    "df_GitHub_Metric1['labels'] = model.labels_\n",
    "df_GitHub_Metric1.to_csv('df_GitHub_Metric_kmeans_cols.csv')\n",
    "# model.labels_"
   ]
  },
  {
   "cell_type": "code",
   "execution_count": 7,
   "metadata": {},
   "outputs": [],
   "source": [
    "# df_github_block_info_count['labels'] = model.labels_\n",
    "# df_github_block_info_count.to_csv(\"df_github_block_info_count.csv\")"
   ]
  },
  {
   "cell_type": "code",
   "execution_count": 8,
   "metadata": {},
   "outputs": [
    {
     "data": {
      "image/png": "[encoded data removed]",
      "text/plain": [
       "<Figure size 432x288 with 1 Axes>"
      ]
     },
     "metadata": {
      "needs_background": "light"
     },
     "output_type": "display_data"
    }
   ],
   "source": [
    "# plt.scatter(df_github_block_info_count['Count'] , df_github_block_info_count['labels'])\n",
    "# plt.show()"
   ]
  },
  {
   "cell_type": "code",
   "execution_count": null,
   "metadata": {},
   "outputs": [],
   "source": []
  },
  {
   "cell_type": "code",
   "execution_count": null,
   "metadata": {},
   "outputs": [],
   "source": []
  }
 ],
 "metadata": {
  "kernelspec": {
   "display_name": "Python 3",
   "language": "python",
   "name": "python3"
  },
  "language_info": {
   "codemirror_mode": {
    "name": "ipython",
    "version": 3
   },
   "file_extension": ".py",
   "mimetype": "text/x-python",
   "name": "python",
   "nbconvert_exporter": "python",
   "pygments_lexer": "ipython3",
   "version": "3.8.3"
  }
 },
 "nbformat": 4,
 "nbformat_minor": 4
}
